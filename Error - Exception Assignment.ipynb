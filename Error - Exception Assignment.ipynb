{
 "cells": [
  {
   "cell_type": "markdown",
   "id": "9912419d",
   "metadata": {},
   "source": [
    "# Error - Exception Assignment"
   ]
  },
  {
   "cell_type": "markdown",
   "id": "fa65ced7",
   "metadata": {},
   "source": [
    "To: Magnimind Academy\n",
    "\n",
    "From: Sammi C"
   ]
  },
  {
   "cell_type": "code",
   "execution_count": null,
   "id": "52ce68ed",
   "metadata": {},
   "outputs": [],
   "source": []
  },
  {
   "cell_type": "markdown",
   "id": "08b835d7",
   "metadata": {},
   "source": [
    "1- Let us define a division operation inside a function (using def) but to get an error, define the denominator as 0. So, type except statement properly."
   ]
  },
  {
   "cell_type": "code",
   "execution_count": 1,
   "id": "3d17a902",
   "metadata": {},
   "outputs": [
    {
     "name": "stdout",
     "output_type": "stream",
     "text": [
      "'division by zero' error occurred\n"
     ]
    }
   ],
   "source": [
    "def division_operation(x, y):\n",
    "    try:\n",
    "        return x/y  \n",
    "    except ZeroDivisionError as z:\n",
    "        print(\"'{}' error occurred\".format(z))\n",
    "\n",
    "division_operation(2, 0)"
   ]
  },
  {
   "cell_type": "code",
   "execution_count": null,
   "id": "c3c9c929",
   "metadata": {},
   "outputs": [],
   "source": []
  },
  {
   "cell_type": "markdown",
   "id": "8103539a",
   "metadata": {},
   "source": [
    "2- It is possible to get multiple errors after the execution of one try block. So, please define an error-exception issue with NameError."
   ]
  },
  {
   "cell_type": "code",
   "execution_count": 2,
   "id": "3a0cdfd9",
   "metadata": {},
   "outputs": [
    {
     "name": "stdout",
     "output_type": "stream",
     "text": [
      "'name 'sum_i_' is not defined' error occurred\n"
     ]
    }
   ],
   "source": [
    "def name_error(i,j):\n",
    "    try:\n",
    "        sum_i_j = i + j\n",
    "        return sum_i_\n",
    "    except NameError as n:\n",
    "        print(\"'{}' error occurred\".format(n))\n",
    "\n",
    "name_error(5, 5)"
   ]
  },
  {
   "cell_type": "code",
   "execution_count": null,
   "id": "b15d2e69",
   "metadata": {},
   "outputs": [],
   "source": []
  },
  {
   "cell_type": "markdown",
   "id": "af90c004",
   "metadata": {},
   "source": [
    "3- Please define a function and with this function, generate a ValueError exception simply by entering a string instead of numerical value."
   ]
  },
  {
   "cell_type": "code",
   "execution_count": 6,
   "id": "d62e51c1",
   "metadata": {},
   "outputs": [
    {
     "name": "stdout",
     "output_type": "stream",
     "text": [
      "please entre first number: d\n",
      "'invalid literal for int() with base 10: 'd'' error occurred\n"
     ]
    }
   ],
   "source": [
    "try:\n",
    "    num1 = int(input('please entre first number: '))\n",
    "    num2 = int(input('please entre second number: '))\n",
    "\n",
    "    sum_num = num1 + num2\n",
    "    print(sum_num)\n",
    "    \n",
    "except ValueError as v:\n",
    "    print(\"'{}' error occurred\".format(v))\n"
   ]
  },
  {
   "cell_type": "code",
   "execution_count": null,
   "id": "08326512",
   "metadata": {},
   "outputs": [],
   "source": []
  },
  {
   "cell_type": "markdown",
   "id": "6b995603",
   "metadata": {},
   "source": [
    "4- Write a function called circumference that takes the diameter of a circle as input and produces the circumference of the circle. Your function should use try...except to check for a type error in the event a string is passed."
   ]
  },
  {
   "cell_type": "code",
   "execution_count": 4,
   "id": "9e398c13",
   "metadata": {},
   "outputs": [
    {
     "name": "stdout",
     "output_type": "stream",
     "text": [
      "please enter diameter: 6\n"
     ]
    },
    {
     "data": {
      "text/plain": [
       "18.84"
      ]
     },
     "execution_count": 4,
     "metadata": {},
     "output_type": "execute_result"
    }
   ],
   "source": [
    "def circumference(diameter, pi):    \n",
    "    return diameter * pi\n",
    "circumference(diameter = float(input('please enter diameter: ')), pi = 3.14)\n"
   ]
  },
  {
   "cell_type": "code",
   "execution_count": null,
   "id": "c7ac545e",
   "metadata": {},
   "outputs": [],
   "source": []
  },
  {
   "cell_type": "code",
   "execution_count": 5,
   "id": "a23263aa",
   "metadata": {},
   "outputs": [
    {
     "name": "stdout",
     "output_type": "stream",
     "text": [
      "please enter diameter: 5\n",
      "'can't multiply sequence by non-int of type 'float' error occurred'\n"
     ]
    }
   ],
   "source": [
    "def circumference(diameter, pi):\n",
    "    try:\n",
    "        return diameter * pi\n",
    "    except TypeError as t:\n",
    "        print(\"'{} error occurred'\".format(t))\n",
    "        \n",
    "circumference(diameter = input('please enter diameter: '), pi = 3.14)\n"
   ]
  },
  {
   "cell_type": "code",
   "execution_count": null,
   "id": "a49f6064",
   "metadata": {},
   "outputs": [],
   "source": []
  }
 ],
 "metadata": {
  "kernelspec": {
   "display_name": "Python 3 (ipykernel)",
   "language": "python",
   "name": "python3"
  },
  "language_info": {
   "codemirror_mode": {
    "name": "ipython",
    "version": 3
   },
   "file_extension": ".py",
   "mimetype": "text/x-python",
   "name": "python",
   "nbconvert_exporter": "python",
   "pygments_lexer": "ipython3",
   "version": "3.9.7"
  }
 },
 "nbformat": 4,
 "nbformat_minor": 5
}
