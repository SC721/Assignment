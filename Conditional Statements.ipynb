{
 "cells": [
  {
   "cell_type": "markdown",
   "id": "17504c77",
   "metadata": {},
   "source": [
    "# Conditional Statements"
   ]
  },
  {
   "cell_type": "markdown",
   "id": "4aed1861",
   "metadata": {},
   "source": [
    "To: Magnimind Academy\n",
    "\n",
    "From: Sammi C"
   ]
  },
  {
   "cell_type": "markdown",
   "id": "941084cc",
   "metadata": {},
   "source": []
  },
  {
   "cell_type": "markdown",
   "id": "6df2dbc4",
   "metadata": {},
   "source": [
    "1- Ask the user to enter a number between 10 and 20 (inclusive). If they enter a number within this range, display the message “Thank you”, otherwise display the message “Incorrect answer”."
   ]
  },
  {
   "cell_type": "code",
   "execution_count": 2,
   "id": "58bbd617",
   "metadata": {},
   "outputs": [
    {
     "name": "stdout",
     "output_type": "stream",
     "text": [
      "please enter number between 10 and 20: 12\n",
      "Thank you\n"
     ]
    }
   ],
   "source": [
    "user_num = int(input('please enter number between 10 and 20: '))\n",
    "\n",
    "if user_num in range(10,21,1) :\n",
    "    print('Thank you')\n",
    "else:\n",
    "    print('Incorrect answer')"
   ]
  },
  {
   "cell_type": "code",
   "execution_count": null,
   "id": "f0444527",
   "metadata": {},
   "outputs": [],
   "source": []
  },
  {
   "cell_type": "markdown",
   "id": "a91fb78b",
   "metadata": {},
   "source": [
    "2- In this exercise, you will create a program that reads a letter of the alphabet from the user. According to the answer:\n",
    "\n",
    "• If the user enters a, e, i, o, u, then your program should display a message indicating that the entered letter is a vowel.\n",
    "\n",
    "• If the user enters y, then your program should display a message indicating that y is sometimes a vowel and sometimes a consonant.\n",
    "\n",
    "• Otherwise, your program should display a message indicating that the letter is a consonant."
   ]
  },
  {
   "cell_type": "code",
   "execution_count": 3,
   "id": "cd14ec95",
   "metadata": {},
   "outputs": [
    {
     "name": "stdout",
     "output_type": "stream",
     "text": [
      "please enter a letter: a\n",
      "the entered letter is a vowel\n"
     ]
    }
   ],
   "source": [
    "user_letter = str(input('please enter a letter: ')).lower()\n",
    "\n",
    "if user_letter in ['a','e','i','o','u']:\n",
    "    print('the entered letter is a vowel')\n",
    "    \n",
    "elif user_letter in ['y']:\n",
    "        print('y is sometimes a vowel and sometimes a consonant')\n",
    "        \n",
    "else:\n",
    "    print('that the letter is a consonant')"
   ]
  },
  {
   "cell_type": "code",
   "execution_count": null,
   "id": "cc2cc219",
   "metadata": {},
   "outputs": [],
   "source": []
  }
 ],
 "metadata": {
  "kernelspec": {
   "display_name": "Python 3 (ipykernel)",
   "language": "python",
   "name": "python3"
  },
  "language_info": {
   "codemirror_mode": {
    "name": "ipython",
    "version": 3
   },
   "file_extension": ".py",
   "mimetype": "text/x-python",
   "name": "python",
   "nbconvert_exporter": "python",
   "pygments_lexer": "ipython3",
   "version": "3.9.7"
  }
 },
 "nbformat": 4,
 "nbformat_minor": 5
}
