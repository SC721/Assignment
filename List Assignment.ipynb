{
 "cells": [
  {
   "cell_type": "markdown",
   "id": "71d751b0",
   "metadata": {},
   "source": [
    "# List Assignment"
   ]
  },
  {
   "cell_type": "markdown",
   "id": "3cac437c",
   "metadata": {},
   "source": [
    "To: Magnimind Academy\n",
    "\n",
    "From: Sammi C"
   ]
  },
  {
   "cell_type": "code",
   "execution_count": null,
   "id": "800327d2",
   "metadata": {},
   "outputs": [],
   "source": []
  },
  {
   "cell_type": "markdown",
   "id": "55df9466",
   "metadata": {},
   "source": [
    "1- Write a code to compute the sum of the two lowest numbers and the two highest numbers in the following list.\n",
    "\n",
    "my_list = [34, 56, 76, 45, 2, 12, 67, 98, 37, 54, 66]"
   ]
  },
  {
   "cell_type": "code",
   "execution_count": 1,
   "id": "d041d3ed",
   "metadata": {},
   "outputs": [
    {
     "data": {
      "text/plain": [
       "[2, 12, 34, 37, 45, 54, 56, 66, 67, 76, 98]"
      ]
     },
     "execution_count": 1,
     "metadata": {},
     "output_type": "execute_result"
    }
   ],
   "source": [
    "my_list = [34, 56, 76, 45, 2, 12, 67, 98, 37, 54, 66]\n",
    "my_list.sort()\n",
    "my_list"
   ]
  },
  {
   "cell_type": "code",
   "execution_count": 2,
   "id": "159038ec",
   "metadata": {},
   "outputs": [
    {
     "data": {
      "text/plain": [
       "14"
      ]
     },
     "execution_count": 2,
     "metadata": {},
     "output_type": "execute_result"
    }
   ],
   "source": [
    "sum_lowerest_num = my_list[0] + my_list[1]   \n",
    "sum_lowerest_num"
   ]
  },
  {
   "cell_type": "code",
   "execution_count": 3,
   "id": "50218f8d",
   "metadata": {},
   "outputs": [
    {
     "data": {
      "text/plain": [
       "[98, 76, 67, 66, 56, 54, 45, 37, 34, 12, 2]"
      ]
     },
     "execution_count": 3,
     "metadata": {},
     "output_type": "execute_result"
    }
   ],
   "source": [
    "# solution 1 for two highest numbers\n",
    "\n",
    "my_list.sort(reverse = True)\n",
    "my_list"
   ]
  },
  {
   "cell_type": "code",
   "execution_count": 4,
   "id": "81ff191d",
   "metadata": {},
   "outputs": [
    {
     "data": {
      "text/plain": [
       "174"
      ]
     },
     "execution_count": 4,
     "metadata": {},
     "output_type": "execute_result"
    }
   ],
   "source": [
    "sum_highest_num = my_list[0] + my_list[1]\n",
    "sum_highest_num"
   ]
  },
  {
   "cell_type": "code",
   "execution_count": 5,
   "id": "038a433e",
   "metadata": {},
   "outputs": [],
   "source": [
    "# solution 2 for two highest numbers\n",
    "\n",
    "# sum_highest_num my_list[-1] + my_list[-2]"
   ]
  },
  {
   "cell_type": "code",
   "execution_count": null,
   "id": "f7b1d2b1",
   "metadata": {},
   "outputs": [],
   "source": []
  },
  {
   "cell_type": "markdown",
   "id": "1522269c",
   "metadata": {},
   "source": [
    "2- The following two lists contain student names and scores. Write a code that gets the name from the user and prints the score of that student.\n",
    "\n",
    "names = [\"David\", \"Michael\", \"John\", \"James\", \"Greg\", \"Mark\", \"William\", \"Richard\", \"Thomas\", \"Steven\",\n",
    "\n",
    "   \"Mary\", \"Susan\", \"Maria\", \"Karen\", \"Lisa\", \"Linda\", \"Donna\", \"Patricia\", \"Debra\", \"Eric\"]\n",
    "\n",
    "scores = [99, 87, 78, 86, 68, 94, 76, 97, 56, 98, 76, 87, 79, 90, 73, 93, 82, 69, 97, 98]"
   ]
  },
  {
   "cell_type": "code",
   "execution_count": 6,
   "id": "0824bb3c",
   "metadata": {},
   "outputs": [],
   "source": [
    "names = [\"David\", \"Michael\", \"John\", \"James\", \"Greg\", \"Mark\", \"William\", \"Richard\", \"Thomas\", \"Steven\",\n",
    "\n",
    "\"Mary\", \"Susan\", \"Maria\", \"Karen\", \"Lisa\", \"Linda\", \"Donna\", \"Patricia\", \"Debra\", \"Eric\"]\n",
    "\n",
    "scores = [99, 87, 78, 86, 68, 94, 76, 97, 56, 98, 76, 87, 79, 90, 73, 93, 82, 69, 97, 98]"
   ]
  },
  {
   "cell_type": "code",
   "execution_count": 7,
   "id": "c264d08e",
   "metadata": {},
   "outputs": [
    {
     "data": {
      "text/plain": [
       "{'David': 99,\n",
       " 'Michael': 87,\n",
       " 'John': 78,\n",
       " 'James': 86,\n",
       " 'Greg': 68,\n",
       " 'Mark': 94,\n",
       " 'William': 76,\n",
       " 'Richard': 97,\n",
       " 'Thomas': 56,\n",
       " 'Steven': 98,\n",
       " 'Mary': 76,\n",
       " 'Susan': 87,\n",
       " 'Maria': 79,\n",
       " 'Karen': 90,\n",
       " 'Lisa': 73,\n",
       " 'Linda': 93,\n",
       " 'Donna': 82,\n",
       " 'Patricia': 69,\n",
       " 'Debra': 97,\n",
       " 'Eric': 98}"
      ]
     },
     "execution_count": 7,
     "metadata": {},
     "output_type": "execute_result"
    }
   ],
   "source": [
    "list_combined= dict(zip(names,scores))\n",
    "list_combined"
   ]
  },
  {
   "cell_type": "code",
   "execution_count": 8,
   "id": "3fddb51a",
   "metadata": {},
   "outputs": [
    {
     "name": "stdout",
     "output_type": "stream",
     "text": [
      "please enter a name: lisA\n",
      "the score is:  73\n"
     ]
    }
   ],
   "source": [
    "student_scores = list_combined.get(input('please enter a name: ').title())\n",
    "print('the score is: ', student_scores)"
   ]
  },
  {
   "cell_type": "code",
   "execution_count": null,
   "id": "53ff5c65",
   "metadata": {},
   "outputs": [],
   "source": []
  },
  {
   "cell_type": "markdown",
   "id": "dac92d49",
   "metadata": {},
   "source": [
    "3- By using the two lists above, what is the maximum score and how many students got that score?"
   ]
  },
  {
   "cell_type": "code",
   "execution_count": 9,
   "id": "42231b5c",
   "metadata": {},
   "outputs": [],
   "source": [
    "max_score = max(scores)\n",
    "max_count = scores.count(max_score)"
   ]
  },
  {
   "cell_type": "code",
   "execution_count": 10,
   "id": "a6dbffb4",
   "metadata": {},
   "outputs": [
    {
     "name": "stdout",
     "output_type": "stream",
     "text": [
      "maximum score is:  99\n",
      "1 students got this score\n"
     ]
    }
   ],
   "source": [
    "print('maximum score is: ', max_score)\n",
    "print(max_count, 'students got this score')"
   ]
  },
  {
   "cell_type": "code",
   "execution_count": null,
   "id": "debf8fa3",
   "metadata": {},
   "outputs": [],
   "source": []
  }
 ],
 "metadata": {
  "kernelspec": {
   "display_name": "Python 3 (ipykernel)",
   "language": "python",
   "name": "python3"
  },
  "language_info": {
   "codemirror_mode": {
    "name": "ipython",
    "version": 3
   },
   "file_extension": ".py",
   "mimetype": "text/x-python",
   "name": "python",
   "nbconvert_exporter": "python",
   "pygments_lexer": "ipython3",
   "version": "3.9.7"
  }
 },
 "nbformat": 4,
 "nbformat_minor": 5
}
