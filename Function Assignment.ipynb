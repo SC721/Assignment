{
 "cells": [
  {
   "cell_type": "markdown",
   "id": "d47ed797",
   "metadata": {},
   "source": [
    "# Function Assignment"
   ]
  },
  {
   "cell_type": "markdown",
   "id": "7e60ac94",
   "metadata": {},
   "source": [
    "To: Magnimind Academy\n",
    "\n",
    "From: Sammi C"
   ]
  },
  {
   "cell_type": "code",
   "execution_count": null,
   "id": "fa0e982a",
   "metadata": {},
   "outputs": [],
   "source": []
  },
  {
   "cell_type": "markdown",
   "id": "9c8212c4",
   "metadata": {},
   "source": [
    "### Finding Prime Number\n",
    "\n",
    "A prime number is an integer greater than one that is only divisible by one and itself. Write a function that determines whether or not its parameter is prime, returning True if it is, and False otherwise. Write a main program that reads an integer from the user and displays a message indicating whether or not it is prime."
   ]
  },
  {
   "cell_type": "code",
   "execution_count": 13,
   "id": "736b38a8",
   "metadata": {},
   "outputs": [],
   "source": [
    "def prime_num(n):\n",
    "    if n <= 0:\n",
    "        return False\n",
    "    elif n == 1:\n",
    "        return False\n",
    "    else:\n",
    "        for i in range(2, n):\n",
    "            if n % i == 0:\n",
    "                return False\n",
    "        return True"
   ]
  },
  {
   "cell_type": "code",
   "execution_count": null,
   "id": "201c6a4c",
   "metadata": {},
   "outputs": [],
   "source": []
  },
  {
   "cell_type": "markdown",
   "id": "09c225be",
   "metadata": {},
   "source": [
    "### Rømer temperature\n",
    "\n",
    "\n",
    "You're writing an excruciatingly detailed alternate history novel set in a world where Daniel Gabriel Fahrenheit was never born.\n",
    "\n",
    "Since Fahrenheit never lived the world kept on using the Rømer scale, invented by fellow Dane Ole Rømer to this very day, skipping over the Fahrenheit and Celsius scales entirely.\n",
    "\n",
    "Your magnum opus contains several thousand references to temperature, but those temperatures are all currently in degrees Celsius. You don't want to convert everything by hand, so you've decided to write a function, celsius_to_romer that takes a temperature in degrees Celsius and returns the equivalent temperature in degrees Rømer.\n",
    "\n",
    "For example: celsius_to_romer(24) should return 20.1."
   ]
  },
  {
   "cell_type": "code",
   "execution_count": 31,
   "id": "3d8c4b2d",
   "metadata": {},
   "outputs": [],
   "source": [
    "def celsius_to_romer(n):\n",
    "    n = (n * 0.525) + 7.5\n",
    "    return (n)"
   ]
  },
  {
   "cell_type": "code",
   "execution_count": 32,
   "id": "2d9f0d53",
   "metadata": {},
   "outputs": [
    {
     "name": "stdout",
     "output_type": "stream",
     "text": [
      "20.1\n"
     ]
    }
   ],
   "source": [
    "print(celsius_to_romer(24))"
   ]
  },
  {
   "cell_type": "code",
   "execution_count": null,
   "id": "8f2bd9af",
   "metadata": {},
   "outputs": [],
   "source": []
  },
  {
   "cell_type": "markdown",
   "id": "2737628a",
   "metadata": {},
   "source": [
    "### Pixelart planning\n",
    "\n",
    "\n",
    "You're laying out a rad pixel art mural to paint on your living room wall in homage to Paul Robertson, your favorite pixel artist.\n",
    "\n",
    "You want your work to be perfect down to the millimeter. You haven't decided on the dimensions of your piece, how large you want your pixels to be, or which wall you want to use. You just know that you want to fit an exact number of pixels.\n",
    "\n",
    "To help decide those things you've decided to write a function, is_divisible that will tell you whether a wall of a certain length can exactly fit an integer number of pixels of a certain length.\n",
    "\n",
    "Your function should take two arguments: the size of the wall in millimeters and the size of a pixel in millimeters. It should return True if you can fit an exact number of pixels on the wall, otherwise it should return False. For example is_divisible(4050, 27) should return True, but is_divisible(4066, 27) should return False.\n",
    "\n",
    "Note: you don't need to use an if statement here. Remember that in Python an expression using the == comparison operator will evaluate to either True or False:"
   ]
  },
  {
   "cell_type": "code",
   "execution_count": 3,
   "id": "3bea0f4b",
   "metadata": {},
   "outputs": [],
   "source": [
    "def is_divisible(wall, pixel):\n",
    "    return (wall % pixel == 0)"
   ]
  },
  {
   "cell_type": "code",
   "execution_count": 4,
   "id": "0a7179c0",
   "metadata": {},
   "outputs": [
    {
     "name": "stdout",
     "output_type": "stream",
     "text": [
      "True\n",
      "False\n"
     ]
    }
   ],
   "source": [
    "print(is_divisible(4050,27))\n",
    "print(is_divisible(4066,27))"
   ]
  },
  {
   "cell_type": "code",
   "execution_count": null,
   "id": "c7fb7ac7",
   "metadata": {},
   "outputs": [],
   "source": []
  }
 ],
 "metadata": {
  "kernelspec": {
   "display_name": "Python 3 (ipykernel)",
   "language": "python",
   "name": "python3"
  },
  "language_info": {
   "codemirror_mode": {
    "name": "ipython",
    "version": 3
   },
   "file_extension": ".py",
   "mimetype": "text/x-python",
   "name": "python",
   "nbconvert_exporter": "python",
   "pygments_lexer": "ipython3",
   "version": "3.9.7"
  }
 },
 "nbformat": 4,
 "nbformat_minor": 5
}
