{
 "cells": [
  {
   "cell_type": "markdown",
   "id": "f03550d0",
   "metadata": {},
   "source": [
    "# For Loop Assignment"
   ]
  },
  {
   "cell_type": "markdown",
   "id": "ea2c574f",
   "metadata": {},
   "source": [
    "To: Magnimind Academy\n",
    "\n",
    "From: Sammi C"
   ]
  },
  {
   "cell_type": "code",
   "execution_count": null,
   "id": "052b01fe",
   "metadata": {},
   "outputs": [],
   "source": []
  },
  {
   "cell_type": "markdown",
   "id": "0fdff69c",
   "metadata": {},
   "source": [
    "1. Do the following to create a program that simulates how websites ensure that everyone has a unique username.\n",
    "\n",
    "- Make a list of five or more usernames called current_users.\n",
    "\n",
    "- Make another list of five usernames called new_users. Make sure one or two of the new usernames are also in the current_users list.\n",
    "\n",
    "- Loop through the new_users list to see if each new username has already been used. If it has, print a message that the person will need to enter a new username. If a username has not been used, print a message saying that the username is available.\n",
    "\n",
    "- Make sure your comparison is case insensitive. If 'John' has been used, 'JOHN' should not be accepted.\n"
   ]
  },
  {
   "cell_type": "code",
   "execution_count": 1,
   "id": "dd1bc8f6",
   "metadata": {},
   "outputs": [],
   "source": [
    "current_users = list(map(str.lower, ['John', 'Mary', 'Adam', 'Lisa', 'Cathy']))\n",
    "new_users = list(map(str.lower, ['Smith', 'Daniel', 'Kate', 'Mary', 'JOHN']))"
   ]
  },
  {
   "cell_type": "code",
   "execution_count": 2,
   "id": "b2a7dd72",
   "metadata": {},
   "outputs": [
    {
     "name": "stdout",
     "output_type": "stream",
     "text": [
      "you will need to enter a new username:  ['mary', 'john']\n",
      "the username is available ['smith', 'daniel', 'kate']\n"
     ]
    }
   ],
   "source": [
    "duplicated = [i for i in new_users if i in current_users]\n",
    "print('you will need to enter a new username: ', duplicated)\n",
    "\n",
    "unique = [i for i in new_users if i not in current_users]\n",
    "print('the username is available', unique)"
   ]
  },
  {
   "cell_type": "code",
   "execution_count": null,
   "id": "4504370a",
   "metadata": {},
   "outputs": [],
   "source": []
  },
  {
   "cell_type": "markdown",
   "id": "4f0de54e",
   "metadata": {},
   "source": [
    "2. Color probability\n",
    "You're playing a game with a friend involving a bag of marbles. In the bag are ten marbles:\n",
    "\n",
    "•\t1 smooth red marble\n",
    "\n",
    "•\t4 bumpy red marbles\n",
    "\n",
    "•\t2 bumpy yellow marbles\n",
    "\n",
    "•\t1 smooth yellow marble\n",
    "\n",
    "•\t1 bumpy green marble\n",
    "\n",
    "•\t1 smooth green marble\n",
    "\n",
    "You can see that the probability of picking a smooth red marble from the bag is 1 / 10 or 0.10 and the probability of picking a bumpy yellow marble is 2 / 10 or 0.20.\n",
    "\n",
    "The game works like this: your friend puts her hand in the bag, chooses a marble (without looking at it) and tells you whether it's bumpy or smooth. Then you have to guess which color it is before she pulls it out and reveals whether you're correct or not.\n",
    "\n",
    "You know that the information about whether the marble is bumpy or smooth changes the probability of what color it is, and you want some help with your guesses.\n",
    "\n",
    "Write a function color_probability that takes two arguments: a color ('red', 'yellow', or 'green') and a texture ('bumpy' or 'smooth') and returns the probability of drawing that combination as a decimal fraction accurate to two places.\n",
    "\n",
    "The probability should be a string and should discard any digits after the 100ths place. For example, 2 / 3 or 0.6666666666666666 would become the string '0.66'. Note this is different from rounding.\n",
    "\n",
    "As a complete example, color_probability('red', 'bumpy') should return the string '0.57'.\n"
   ]
  },
  {
   "cell_type": "code",
   "execution_count": 16,
   "id": "0ce475fd",
   "metadata": {},
   "outputs": [],
   "source": [
    "def colour_probability(colour, texture):\n",
    "    marbles = {'smooth': {'red': 1, 'yellow': 1, 'green': 1}, \n",
    "           'bumpy': {'red': 4, 'yellow': 2, 'green': 1}}\n",
    "    \n",
    "    if texture == 'smooth':\n",
    "        prob = marbles[texture][colour] / sum(marbles[texture].values())\n",
    "    else:\n",
    "        prob = marbles[texture][colour] / sum(marbles[texture].values())\n",
    "    print(f'{prob:.2f}')"
   ]
  },
  {
   "cell_type": "code",
   "execution_count": 17,
   "id": "d5cc8795",
   "metadata": {},
   "outputs": [
    {
     "name": "stdout",
     "output_type": "stream",
     "text": [
      "0.57\n"
     ]
    }
   ],
   "source": [
    "colour_probability('red', 'bumpy')"
   ]
  },
  {
   "cell_type": "code",
   "execution_count": null,
   "id": "3e03ebe4",
   "metadata": {},
   "outputs": [],
   "source": []
  },
  {
   "cell_type": "markdown",
   "id": "36c1adc6",
   "metadata": {},
   "source": [
    "3. Write an if-elif-else chain that determines a person’s stage of life.\n",
    "Set a value for the variable age, and then:\n",
    "\n",
    "- If the person is less than 2 years old, print a message that the person is a baby.\n",
    "\n",
    "- If the person is at least 2 years old but less than 4, print a message that the person is a toddler.\n",
    "\n",
    "- If the person is at least 4 years old but less than 13, print a message that the person is a kid.\n",
    "\n",
    "- If the person is at least 13 years old but less than 20, print a message that the person is a teenager.\n",
    "\n",
    "- If the person is at least 20 years old but less than 65, print a message that the person is an adult.\n",
    "\n",
    "- If the person is age 65 or older, print a message that the person is an elder.\n"
   ]
  },
  {
   "cell_type": "code",
   "execution_count": null,
   "id": "dea19ed3",
   "metadata": {},
   "outputs": [],
   "source": [
    "age = int(input('please enter age: '))\n",
    "\n",
    "if age < 2:\n",
    "    print('that the person is a baby')\n",
    "elif age >= 2 and age < 4:\n",
    "    print('that the person is a toddler')\n",
    "elif age >= 4 and age < 13:\n",
    "    print('that the person is a kid')\n",
    "elif age >= 13 and age < 20:\n",
    "    print('that the person is a teenager')\n",
    "elif age >= 20 and age < 65:\n",
    "    print('that the person is an adult')\n",
    "else:\n",
    "    print('the person is an elder')"
   ]
  },
  {
   "cell_type": "code",
   "execution_count": null,
   "id": "072b094a",
   "metadata": {},
   "outputs": [],
   "source": []
  }
 ],
 "metadata": {
  "kernelspec": {
   "display_name": "Python 3 (ipykernel)",
   "language": "python",
   "name": "python3"
  },
  "language_info": {
   "codemirror_mode": {
    "name": "ipython",
    "version": 3
   },
   "file_extension": ".py",
   "mimetype": "text/x-python",
   "name": "python",
   "nbconvert_exporter": "python",
   "pygments_lexer": "ipython3",
   "version": "3.9.7"
  }
 },
 "nbformat": 4,
 "nbformat_minor": 5
}
