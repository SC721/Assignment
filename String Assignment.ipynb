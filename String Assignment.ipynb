{
 "cells": [
  {
   "cell_type": "markdown",
   "id": "2318f7b7",
   "metadata": {},
   "source": [
    "# String Assignment"
   ]
  },
  {
   "cell_type": "markdown",
   "id": "6e523895",
   "metadata": {},
   "source": [
    "To: Magnimind Academy\n",
    "\n",
    "From: Sammi C"
   ]
  },
  {
   "cell_type": "code",
   "execution_count": null,
   "id": "2f7bc3e2",
   "metadata": {},
   "outputs": [],
   "source": []
  },
  {
   "cell_type": "markdown",
   "id": "a0ff1ec7",
   "metadata": {},
   "source": [
    "1. Ask the user to enter their first name and surname in lower case. Change the case to title case and join them together. Display the finished result."
   ]
  },
  {
   "cell_type": "code",
   "execution_count": 1,
   "id": "038bb0e0",
   "metadata": {},
   "outputs": [
    {
     "name": "stdout",
     "output_type": "stream",
     "text": [
      "what is your first name? SAMMI\n",
      "what is your surname? CHANG\n",
      "sammi\n",
      "chang\n",
      "Sammi Chang\n"
     ]
    }
   ],
   "source": [
    "first_name = input('what is your first name? ').lower()\n",
    "surname = input('what is your surname? ').lower()\n",
    "user_name = f'{first_name} {surname}'\n",
    "print(first_name)\n",
    "print(surname)\n",
    "print(user_name.title())"
   ]
  },
  {
   "cell_type": "code",
   "execution_count": null,
   "id": "bec63329",
   "metadata": {},
   "outputs": [],
   "source": []
  },
  {
   "cell_type": "code",
   "execution_count": null,
   "id": "8687442f",
   "metadata": {},
   "outputs": [],
   "source": []
  },
  {
   "cell_type": "markdown",
   "id": "ec189a8a",
   "metadata": {},
   "source": [
    "2.Ask the user to type in the first line of a poem Raven by Edgar Allen Poe and display the length of the string. Ask for a starting number and an ending number and then display just that section of the text (remember Python starts counting from 0 and not 1). Here is the poem Raven:\n",
    "Deep into that darkness peering,\n",
    "\n",
    "Deep into that darkness peering,\n",
    "\n",
    "Long I stood there, wondering, fearing,\n",
    "\n",
    "Doubting, dreaming dreams no mortals\n",
    "\n",
    "Ever dared to dream before;\n",
    "\n",
    "But the silence was unbroken,\n",
    "\n",
    "And the stillness gave no token,\n",
    "\n",
    "And the only word there spoken\n",
    "\n",
    "Was the whispered word, \"Lenore!\"\n",
    "\n",
    "This I whispered, and an echo\n",
    "\n",
    "Murmured back the word, \"Lenore!\"\n",
    "\n",
    "Merely this, and nothing more."
   ]
  },
  {
   "cell_type": "code",
   "execution_count": 2,
   "id": "462686ff",
   "metadata": {},
   "outputs": [
    {
     "name": "stdout",
     "output_type": "stream",
     "text": [
      "please type in the first line of a poem Raven: Deep into that darkness peering,\n",
      "The length of the first line is:  32\n"
     ]
    }
   ],
   "source": [
    "first_line = input('please type in the first line of a poem Raven: ')\n",
    "len_first_line = len(first_line)\n",
    "print('The length of the first line is: ', len_first_line)"
   ]
  },
  {
   "cell_type": "code",
   "execution_count": 3,
   "id": "185b7973",
   "metadata": {},
   "outputs": [],
   "source": [
    "poem_Raven = \"\"\"Deep into that darkness peering,\n",
    "\n",
    "Long I stood there, wondering, fearing,\n",
    "\n",
    "Doubting, dreaming dreams no mortals\n",
    "\n",
    "Ever dared to dream before;\n",
    "\n",
    "But the silence was unbroken,\n",
    "\n",
    "And the stillness gave no token,\n",
    "\n",
    "And the only word there spoken\n",
    "\n",
    "Was the whispered word, \"Lenore!\"\n",
    "\n",
    "This I whispered, and an echo\n",
    "\n",
    "Murmured back the word, \"Lenore!\"\n",
    "\n",
    "Merely this, and nothing more.\"\"\""
   ]
  },
  {
   "cell_type": "code",
   "execution_count": 4,
   "id": "ff566ac4",
   "metadata": {},
   "outputs": [
    {
     "data": {
      "text/plain": [
       "'D'"
      ]
     },
     "execution_count": 4,
     "metadata": {},
     "output_type": "execute_result"
    }
   ],
   "source": [
    "poem_Raven[0]"
   ]
  },
  {
   "cell_type": "code",
   "execution_count": 5,
   "id": "f20d0300",
   "metadata": {},
   "outputs": [
    {
     "data": {
      "text/plain": [
       "'.'"
      ]
     },
     "execution_count": 5,
     "metadata": {},
     "output_type": "execute_result"
    }
   ],
   "source": [
    "poem_Raven[-1]"
   ]
  },
  {
   "cell_type": "code",
   "execution_count": null,
   "id": "34cf4a50",
   "metadata": {},
   "outputs": [],
   "source": []
  },
  {
   "cell_type": "markdown",
   "id": "7e66ac53",
   "metadata": {},
   "source": [
    "3. Removes extra characters from the start and end of a string and explain why you need to remove white spaces while exploring text.\n",
    "\n",
    "The reason why we remove it is because Python process these white space and if we have no idea about white spaces, there cannot properly process the text."
   ]
  },
  {
   "cell_type": "code",
   "execution_count": 6,
   "id": "11e8e917",
   "metadata": {},
   "outputs": [],
   "source": [
    "remove_white_space = poem_Raven.strip()"
   ]
  },
  {
   "cell_type": "code",
   "execution_count": 7,
   "id": "f7de3834",
   "metadata": {},
   "outputs": [
    {
     "data": {
      "text/plain": [
       "370"
      ]
     },
     "execution_count": 7,
     "metadata": {},
     "output_type": "execute_result"
    }
   ],
   "source": [
    "len(remove_white_space)"
   ]
  },
  {
   "cell_type": "code",
   "execution_count": null,
   "id": "a163a5fd",
   "metadata": {},
   "outputs": [],
   "source": []
  }
 ],
 "metadata": {
  "kernelspec": {
   "display_name": "Python 3 (ipykernel)",
   "language": "python",
   "name": "python3"
  },
  "language_info": {
   "codemirror_mode": {
    "name": "ipython",
    "version": 3
   },
   "file_extension": ".py",
   "mimetype": "text/x-python",
   "name": "python",
   "nbconvert_exporter": "python",
   "pygments_lexer": "ipython3",
   "version": "3.9.7"
  }
 },
 "nbformat": 4,
 "nbformat_minor": 5
}
