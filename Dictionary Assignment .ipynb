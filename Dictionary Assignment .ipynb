{
 "cells": [
  {
   "cell_type": "markdown",
   "id": "f05ba982",
   "metadata": {},
   "source": [
    "# Dictionary Assignment "
   ]
  },
  {
   "cell_type": "markdown",
   "id": "7443b823",
   "metadata": {},
   "source": [
    "To: Magnimind Academy\n",
    "\n",
    "From: Sammi C"
   ]
  },
  {
   "cell_type": "markdown",
   "id": "0793d782",
   "metadata": {},
   "source": [
    "1- Create a dictionary with 7 days. Ask the user to choose 2 different days by listing the (e.g. \"12\" for Monday and Tuesday). Delete the user-selected days from the dictionary and print the remaining 5 days on the screen."
   ]
  },
  {
   "cell_type": "code",
   "execution_count": 1,
   "id": "49326c20",
   "metadata": {},
   "outputs": [
    {
     "name": "stdout",
     "output_type": "stream",
     "text": [
      "please enter 1 day: monday\n",
      "please enter 1 day: tuesday\n",
      "12\n"
     ]
    }
   ],
   "source": [
    "weekdays = {'Monday': 1, 'Tuesday': 2, 'Wednesday': 3, 'Thursday': 4, 'Friday': 5, 'Saturday': 6, 'Sunday': 7}\n",
    "choose_days1 = weekdays.get(input('please enter 1 day: ').title())\n",
    "choose_days2 = weekdays.get(input('please enter 1 day: ').title())\n",
    "choose_days3 = str(choose_days1) + str(choose_days2)\n",
    "\n",
    "print(choose_days3)"
   ]
  },
  {
   "cell_type": "code",
   "execution_count": 2,
   "id": "3ab1988c",
   "metadata": {},
   "outputs": [],
   "source": [
    "day_3 = map(int, choose_days3)\n",
    "day_3_list = list(day_3)\n",
    "full_weekdays = list(weekdays.values())"
   ]
  },
  {
   "cell_type": "code",
   "execution_count": 3,
   "id": "56351b40",
   "metadata": {},
   "outputs": [
    {
     "name": "stdout",
     "output_type": "stream",
     "text": [
      "remaining days:  [3, 4, 5, 6, 7]\n"
     ]
    }
   ],
   "source": [
    "# solution 1\n",
    "\n",
    "remaining_days = list(set(full_weekdays) - set(day_3_list))\n",
    "print('remaining days: ', remaining_days)"
   ]
  },
  {
   "cell_type": "code",
   "execution_count": 4,
   "id": "bea9b8c1",
   "metadata": {},
   "outputs": [
    {
     "name": "stdout",
     "output_type": "stream",
     "text": [
      "remaining days:  {3, 4, 5, 6, 7}\n"
     ]
    }
   ],
   "source": [
    "# solution 2\n",
    "\n",
    "remaining_days = set(full_weekdays).difference(set(day_3_list))\n",
    "print('remaining days: ', remaining_days)"
   ]
  },
  {
   "cell_type": "code",
   "execution_count": null,
   "id": "d2a00296",
   "metadata": {},
   "outputs": [],
   "source": []
  },
  {
   "cell_type": "markdown",
   "id": "2cd70a10",
   "metadata": {},
   "source": [
    "2- Create a dictionary with the following personnel. Use names as keys.\n",
    "(Michael (age: 20)\n",
    "(Linda (age: 30)"
   ]
  },
  {
   "cell_type": "code",
   "execution_count": 5,
   "id": "67c60506",
   "metadata": {},
   "outputs": [],
   "source": [
    "dict1 = {'Michael': {'age': 20}}\n",
    "dict2 = {'Linda': {'age': 30}}"
   ]
  },
  {
   "cell_type": "code",
   "execution_count": null,
   "id": "5bfb3ae5",
   "metadata": {},
   "outputs": [],
   "source": []
  },
  {
   "cell_type": "markdown",
   "id": "1bfad9b1",
   "metadata": {},
   "source": [
    "3- Add child information to Michael and Linda. Michael has two children (Karen (age : 12, female) and Greg (age : 7, male) and Linda has one child (Susan (age: 6, female))"
   ]
  },
  {
   "cell_type": "code",
   "execution_count": 6,
   "id": "b1a34020",
   "metadata": {},
   "outputs": [
    {
     "name": "stdout",
     "output_type": "stream",
     "text": [
      "{'Karen': [{'age': 12}, 'female'], 'Greg': [{'age': 7}, 'male']}\n",
      "{'Susan': [{'age': 6}, 'female']}\n"
     ]
    }
   ],
   "source": [
    "mic_name = ['Karen','Greg']\n",
    "mic_value = [[{'age':12},'female'], [{'age':7},'male']]\n",
    "michael_child = dict(zip(mic_name, mic_value))\n",
    "print(michael_child)\n",
    "\n",
    "linda_name = ['Susan']\n",
    "linda_value = [[{'age':6},'female']]\n",
    "linda_child = dict(zip(linda_name, linda_value))\n",
    "print(linda_child)"
   ]
  },
  {
   "cell_type": "code",
   "execution_count": 7,
   "id": "2b8d6db0",
   "metadata": {},
   "outputs": [
    {
     "data": {
      "text/plain": [
       "{'Michael': {'age': 20},\n",
       " 'Karen': [{'age': 12}, 'female'],\n",
       " 'Greg': [{'age': 7}, 'male']}"
      ]
     },
     "execution_count": 7,
     "metadata": {},
     "output_type": "execute_result"
    }
   ],
   "source": [
    "dict1.update(michael_child)\n",
    "dict1"
   ]
  },
  {
   "cell_type": "code",
   "execution_count": 8,
   "id": "276ab624",
   "metadata": {},
   "outputs": [
    {
     "data": {
      "text/plain": [
       "{'Linda': {'age': 30}, 'Susan': [{'age': 6}, 'female']}"
      ]
     },
     "execution_count": 8,
     "metadata": {},
     "output_type": "execute_result"
    }
   ],
   "source": [
    "dict2.update(linda_child)\n",
    "dict2"
   ]
  },
  {
   "cell_type": "code",
   "execution_count": null,
   "id": "519c7dde",
   "metadata": {},
   "outputs": [],
   "source": []
  },
  {
   "cell_type": "markdown",
   "id": "dad0251e",
   "metadata": {},
   "source": [
    "4- Print the names of Michael's children in a list."
   ]
  },
  {
   "cell_type": "code",
   "execution_count": 9,
   "id": "fb3e41fd",
   "metadata": {},
   "outputs": [
    {
     "name": "stdout",
     "output_type": "stream",
     "text": [
      "['Karen', 'Greg']\n"
     ]
    }
   ],
   "source": [
    "# solution 1\n",
    "\n",
    "print(list(michael_child.keys()))"
   ]
  },
  {
   "cell_type": "code",
   "execution_count": 10,
   "id": "f13f79b2",
   "metadata": {},
   "outputs": [
    {
     "name": "stdout",
     "output_type": "stream",
     "text": [
      "['Karen', 'Greg']\n"
     ]
    }
   ],
   "source": [
    "# solution 2\n",
    "\n",
    "print(list(dict1.keys())[1:])"
   ]
  },
  {
   "cell_type": "code",
   "execution_count": null,
   "id": "aa932853",
   "metadata": {},
   "outputs": [],
   "source": []
  }
 ],
 "metadata": {
  "kernelspec": {
   "display_name": "Python 3 (ipykernel)",
   "language": "python",
   "name": "python3"
  },
  "language_info": {
   "codemirror_mode": {
    "name": "ipython",
    "version": 3
   },
   "file_extension": ".py",
   "mimetype": "text/x-python",
   "name": "python",
   "nbconvert_exporter": "python",
   "pygments_lexer": "ipython3",
   "version": "3.9.7"
  }
 },
 "nbformat": 4,
 "nbformat_minor": 5
}
