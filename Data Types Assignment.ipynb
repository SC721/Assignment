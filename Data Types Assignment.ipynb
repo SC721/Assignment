{
 "cells": [
  {
   "cell_type": "markdown",
   "id": "fa95ac4c",
   "metadata": {},
   "source": [
    "# Data Types Assignment"
   ]
  },
  {
   "cell_type": "markdown",
   "id": "d8b59153",
   "metadata": {},
   "source": [
    "To: Magnimind Academy\n",
    "\n",
    "From: Sammi C"
   ]
  },
  {
   "cell_type": "code",
   "execution_count": null,
   "id": "82cc11e3",
   "metadata": {},
   "outputs": [],
   "source": []
  },
  {
   "cell_type": "markdown",
   "id": "95d68568",
   "metadata": {},
   "source": [
    "1- Suppose you invested in Bitcoin at the end of 2020 when Bitcoin gained a lot of value. What would be your money at the end of a week if you had invested $1000 with an average daily increase of 12% ? You can solve the problem using Python.\n",
    "\n",
    "Help\n",
    "\n",
    "Create a variable capital ($1000)\n",
    "\n",
    "Create a variable for daily growth (12%)\n",
    "\n",
    "Create a variable for period (7)\n",
    "\n",
    "Calculate the final growth rate\n",
    "\n",
    "Calculate result\n",
    "\n",
    "Print result"
   ]
  },
  {
   "cell_type": "code",
   "execution_count": 1,
   "id": "2d190166",
   "metadata": {},
   "outputs": [
    {
     "name": "stdout",
     "output_type": "stream",
     "text": [
      "simple interest:  1840.0\n",
      "compound interest:  2210.68\n"
     ]
    }
   ],
   "source": [
    "capital = float(1000)\n",
    "daily_growth = float(0.12)\n",
    "period = float(7)\n",
    "\n",
    "simple_interest = capital + (capital * daily_growth * period)\n",
    "\n",
    "compound_interest = capital * (float(1) + daily_growth)**period\n",
    "\n",
    "print('simple interest: ', simple_interest)\n",
    "print('compound interest: ', round(compound_interest, 2))"
   ]
  },
  {
   "cell_type": "code",
   "execution_count": null,
   "id": "edad3b12",
   "metadata": {},
   "outputs": [],
   "source": []
  },
  {
   "cell_type": "markdown",
   "id": "6341db95",
   "metadata": {},
   "source": [
    "2- Print the text in quotes with Python. However, you must get the numbers from variables using .format() notation. Because the text is long, you might consider writing in two lines:\n",
    "\n",
    "\"When we buy bitcoin with 1000 USD at the beginning of the week, we would earn 1210.68 USD at the end of the week, with an average gain of 12%.\""
   ]
  },
  {
   "cell_type": "code",
   "execution_count": 2,
   "id": "a7a6b47e",
   "metadata": {},
   "outputs": [
    {
     "name": "stdout",
     "output_type": "stream",
     "text": [
      "\"When we buy bitcoin with 1000 USD at the beginning of the week\"\n"
     ]
    }
   ],
   "source": [
    "print('\"When we buy bitcoin with {} USD at the beginning of the week\"'.format(1000))"
   ]
  },
  {
   "cell_type": "code",
   "execution_count": 3,
   "id": "7db455eb",
   "metadata": {},
   "outputs": [
    {
     "name": "stdout",
     "output_type": "stream",
     "text": [
      "\"we would earn 1210.68 USD at the end of the week, with an average gain of 12%.\"\n"
     ]
    }
   ],
   "source": [
    "print('\"we would earn {} USD at the end of the week, with an average gain of {}%.\"'.format(1210.68, 12))"
   ]
  },
  {
   "cell_type": "code",
   "execution_count": null,
   "id": "102a9db2",
   "metadata": {},
   "outputs": [],
   "source": []
  },
  {
   "cell_type": "markdown",
   "id": "8fdc638e",
   "metadata": {},
   "source": [
    "3- Get the temperature in Fahrenheit from user and write a code to convert it to Celcius. For conversion, you can use this formula: C = (5/9) * (F - 32) Enter the temperature in Fahrenheit:\n",
    "\n",
    "user --> 26\n",
    "\n",
    "output --> Temperature (C) : -3.33"
   ]
  },
  {
   "cell_type": "code",
   "execution_count": 4,
   "id": "459b87d8",
   "metadata": {},
   "outputs": [
    {
     "name": "stdout",
     "output_type": "stream",
     "text": [
      "temperature: 26\n",
      "-3.33\n"
     ]
    }
   ],
   "source": [
    "F = float(input('temperature: '))\n",
    "conversion = (5/9) * (F - 32)\n",
    "print(round(conversion, 2))"
   ]
  },
  {
   "cell_type": "code",
   "execution_count": null,
   "id": "d9ee15b4",
   "metadata": {},
   "outputs": [],
   "source": []
  },
  {
   "cell_type": "markdown",
   "id": "d2f0b56a",
   "metadata": {},
   "source": [
    "4- Get a three digit number the from user and calculate the sum of the digits in the integer. user --> 365\n",
    "\n",
    "output --> \"The sum of digits in the number is 14"
   ]
  },
  {
   "cell_type": "code",
   "execution_count": 5,
   "id": "e685f6e3",
   "metadata": {},
   "outputs": [
    {
     "name": "stdout",
     "output_type": "stream",
     "text": [
      "please enter 3 digits: 365\n",
      "14\n"
     ]
    }
   ],
   "source": [
    "# solution 1\n",
    "digit = int(input('please enter 3 digits: '))\n",
    "sum_of_digit = digit // 100 + (digit % 100) // 10 + digit % 10\n",
    "\n",
    "print(sum_of_digit)"
   ]
  },
  {
   "cell_type": "code",
   "execution_count": 6,
   "id": "aed2d0fc",
   "metadata": {},
   "outputs": [
    {
     "name": "stdout",
     "output_type": "stream",
     "text": [
      "please enter 3 digits: 365\n",
      "14\n"
     ]
    }
   ],
   "source": [
    "# solution 2\n",
    "digit = input('please enter 3 digits: ')\n",
    "list_digit = list(digit)\n",
    "new_list = [int(i) for i in list_digit]\n",
    "\n",
    "print(sum(new_list))"
   ]
  },
  {
   "cell_type": "code",
   "execution_count": 10,
   "id": "621861bc",
   "metadata": {},
   "outputs": [
    {
     "name": "stdout",
     "output_type": "stream",
     "text": [
      "please enter 3 digits: 365\n",
      "14\n"
     ]
    }
   ],
   "source": [
    "# solution 3\n",
    "digit = input('please enter 3 digits: ')\n",
    "list_digit = list(digit)\n",
    "list_int = map(int, list_digit)\n",
    "\n",
    "print(sum(list_int))"
   ]
  },
  {
   "cell_type": "code",
   "execution_count": null,
   "id": "96cd67d3",
   "metadata": {},
   "outputs": [],
   "source": []
  },
  {
   "cell_type": "markdown",
   "id": "2de3914e",
   "metadata": {},
   "source": [
    "5- Write some code to calculate the hypotenuse of a right angled triangle. Get the side lengths from the user.\n",
    "\n",
    "user --> first side lenth : 6\n",
    "\n",
    "user --> first side lenth : 8\n",
    "\n",
    "output --> \"The length of the hypotenuse is 10"
   ]
  },
  {
   "cell_type": "code",
   "execution_count": 8,
   "id": "f83cc64d",
   "metadata": {},
   "outputs": [],
   "source": [
    "from math import sqrt"
   ]
  },
  {
   "cell_type": "code",
   "execution_count": 9,
   "id": "8c48f9d1",
   "metadata": {},
   "outputs": [
    {
     "name": "stdout",
     "output_type": "stream",
     "text": [
      "please input the first side length: 6\n",
      "please input the first side length: 8\n",
      "The length of the hypotenuse is:  10.0\n"
     ]
    }
   ],
   "source": [
    "a = float(input('please input the first side length: '))\n",
    "b = float(input('please input the first side length: '))\n",
    "outcome = sqrt(a ** 2 + b ** 2)\n",
    "\n",
    "print('The length of the hypotenuse is: ', outcome)"
   ]
  },
  {
   "cell_type": "code",
   "execution_count": null,
   "id": "506ae684",
   "metadata": {},
   "outputs": [],
   "source": []
  }
 ],
 "metadata": {
  "kernelspec": {
   "display_name": "Python 3 (ipykernel)",
   "language": "python",
   "name": "python3"
  },
  "language_info": {
   "codemirror_mode": {
    "name": "ipython",
    "version": 3
   },
   "file_extension": ".py",
   "mimetype": "text/x-python",
   "name": "python",
   "nbconvert_exporter": "python",
   "pygments_lexer": "ipython3",
   "version": "3.9.7"
  }
 },
 "nbformat": 4,
 "nbformat_minor": 5
}
